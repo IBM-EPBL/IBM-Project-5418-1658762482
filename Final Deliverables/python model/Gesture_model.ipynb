{
 "cells": [
  {
   "cell_type": "code",
   "execution_count": 1,
   "id": "a3d5e9bb",
   "metadata": {},
   "outputs": [
    {
     "name": "stderr",
     "output_type": "stream",
     "text": [
      "2022-11-16 12:15:49.863460: W tensorflow/stream_executor/platform/default/dso_loader.cc:64] Could not load dynamic library 'libcudart.so.11.0'; dlerror: libcudart.so.11.0: cannot open shared object file: No such file or directory\n",
      "2022-11-16 12:15:49.863494: I tensorflow/stream_executor/cuda/cudart_stub.cc:29] Ignore above cudart dlerror if you do not have a GPU set up on your machine.\n"
     ]
    }
   ],
   "source": [
    "from keras.preprocessing.image import ImageDataGenerator "
   ]
  },
  {
   "cell_type": "code",
   "execution_count": 2,
   "id": "01841e6e",
   "metadata": {},
   "outputs": [],
   "source": [
    "train_datagen =ImageDataGenerator(rescale=1,brightness_range=[0.4,1.5])"
   ]
  },
  {
   "cell_type": "code",
   "execution_count": 3,
   "id": "a9ffd596",
   "metadata": {},
   "outputs": [
    {
     "name": "stdout",
     "output_type": "stream",
     "text": [
      "Found 25161 images belonging to 6 classes.\n"
     ]
    }
   ],
   "source": [
    "x_train = train_datagen.flow_from_directory(r'asldataset/training',target_size = (128,128), batch_size = 32,color_mode=\"grayscale\", class_mode ='categorical')"
   ]
  },
  {
   "cell_type": "code",
   "execution_count": 4,
   "id": "2e0f0d3a",
   "metadata": {},
   "outputs": [],
   "source": [
    "test_datagen =ImageDataGenerator(rescale=1)"
   ]
  },
  {
   "cell_type": "code",
   "execution_count": 5,
   "id": "874ae393",
   "metadata": {},
   "outputs": [
    {
     "name": "stdout",
     "output_type": "stream",
     "text": [
      "Found 326 images belonging to 6 classes.\n"
     ]
    }
   ],
   "source": [
    "x_test = train_datagen.flow_from_directory(r'asldataset/testing',target_size = (128,128), batch_size = 32,color_mode=\"grayscale\", class_mode ='categorical')"
   ]
  },
  {
   "cell_type": "code",
   "execution_count": 6,
   "id": "5645a7a2",
   "metadata": {},
   "outputs": [],
   "source": [
    "import numpy as np\n",
    "import tensorflow\n",
    "from tensorflow.keras.models import Sequential\n",
    "from tensorflow.keras import layers\n",
    "from tensorflow.keras.layers import Dense,Flatten,Conv2D,MaxPooling2D\n"
   ]
  },
  {
   "cell_type": "code",
   "execution_count": 7,
   "id": "e462bbd2",
   "metadata": {},
   "outputs": [
    {
     "name": "stderr",
     "output_type": "stream",
     "text": [
      "2022-11-16 12:15:53.112831: E tensorflow/stream_executor/cuda/cuda_driver.cc:271] failed call to cuInit: CUDA_ERROR_NO_DEVICE: no CUDA-capable device is detected\n",
      "2022-11-16 12:15:53.112860: I tensorflow/stream_executor/cuda/cuda_diagnostics.cc:156] kernel driver does not appear to be running on this host (shriram-ASUS-TUF-LINUX): /proc/driver/nvidia/version does not exist\n",
      "2022-11-16 12:15:53.113916: I tensorflow/core/platform/cpu_feature_guard.cc:151] This TensorFlow binary is optimized with oneAPI Deep Neural Network Library (oneDNN) to use the following CPU instructions in performance-critical operations:  AVX2 AVX512F FMA\n",
      "To enable them in other operations, rebuild TensorFlow with the appropriate compiler flags.\n"
     ]
    }
   ],
   "source": [
    "model=Sequential()"
   ]
  },
  {
   "cell_type": "code",
   "execution_count": 8,
   "id": "15dcd4e8",
   "metadata": {},
   "outputs": [],
   "source": [
    "model.add(Conv2D(64,(3,3),input_shape=(128,128,1),activation=\"relu\"))\n",
    "model.add(MaxPooling2D(pool_size=(4,4)))\n",
    "\n",
    "model.add(Flatten())\n",
    "model.add(Dense(units=32,activation=\"relu\"))\n",
    "\n",
    "model.add(Dense(units=6,activation=\"softmax\"))\n"
   ]
  },
  {
   "cell_type": "code",
   "execution_count": 9,
   "id": "6b561e12",
   "metadata": {},
   "outputs": [],
   "source": [
    "model.compile(optimizer=\"adam\",loss=\"categorical_crossentropy\",metrics=[tensorflow.keras.metrics.Accuracy(), tensorflow.keras.metrics.Precision\n",
    "()])"
   ]
  },
  {
   "cell_type": "code",
   "execution_count": 10,
   "id": "e4e9d15c",
   "metadata": {},
   "outputs": [
    {
     "name": "stdout",
     "output_type": "stream",
     "text": [
      "Model: \"sequential\"\n",
      "_________________________________________________________________\n",
      " Layer (type)                Output Shape              Param #   \n",
      "=================================================================\n",
      " conv2d (Conv2D)             (None, 126, 126, 64)      640       \n",
      "                                                                 \n",
      " max_pooling2d (MaxPooling2D  (None, 31, 31, 64)       0         \n",
      " )                                                               \n",
      "                                                                 \n",
      " flatten (Flatten)           (None, 61504)             0         \n",
      "                                                                 \n",
      " dense (Dense)               (None, 32)                1968160   \n",
      "                                                                 \n",
      " dense_1 (Dense)             (None, 6)                 198       \n",
      "                                                                 \n",
      "=================================================================\n",
      "Total params: 1,968,998\n",
      "Trainable params: 1,968,998\n",
      "Non-trainable params: 0\n",
      "_________________________________________________________________\n"
     ]
    }
   ],
   "source": [
    "model.summary()"
   ]
  },
  {
   "cell_type": "code",
   "execution_count": 11,
   "id": "df00b49a",
   "metadata": {
    "scrolled": true
   },
   "outputs": [
    {
     "name": "stderr",
     "output_type": "stream",
     "text": [
      "/tmp/ipykernel_53949/2373511768.py:1: UserWarning: `Model.fit_generator` is deprecated and will be removed in a future version. Please use `Model.fit`, which supports generators.\n",
      "  model.fit_generator(generator=x_train,steps_per_epoch=len(x_train),epochs=6,validation_data=x_test,validation_steps=len(x_test))\n"
     ]
    },
    {
     "name": "stdout",
     "output_type": "stream",
     "text": [
      "Epoch 1/6\n"
     ]
    },
    {
     "name": "stderr",
     "output_type": "stream",
     "text": [
      "2022-11-16 12:15:53.850897: W tensorflow/core/framework/cpu_allocator_impl.cc:82] Allocation of 130056192 exceeds 10% of free system memory.\n",
      "2022-11-16 12:15:54.041820: W tensorflow/core/framework/cpu_allocator_impl.cc:82] Allocation of 15745024 exceeds 10% of free system memory.\n",
      "2022-11-16 12:15:54.043507: W tensorflow/core/framework/cpu_allocator_impl.cc:82] Allocation of 130056192 exceeds 10% of free system memory.\n"
     ]
    },
    {
     "name": "stdout",
     "output_type": "stream",
     "text": [
      "\r",
      "  1/787 [..............................] - ETA: 10:35 - loss: 22.9447 - accuracy: 0.0000e+00 - precision: 0.0938"
     ]
    },
    {
     "name": "stderr",
     "output_type": "stream",
     "text": [
      "2022-11-16 12:15:54.240625: W tensorflow/core/framework/cpu_allocator_impl.cc:82] Allocation of 130056192 exceeds 10% of free system memory.\n",
      "2022-11-16 12:15:54.325099: W tensorflow/core/framework/cpu_allocator_impl.cc:82] Allocation of 15745024 exceeds 10% of free system memory.\n"
     ]
    },
    {
     "name": "stdout",
     "output_type": "stream",
     "text": [
      "787/787 [==============================] - 177s 224ms/step - loss: 6.2034 - accuracy: 0.0229 - precision: 0.8308 - val_loss: 7.3154 - val_accuracy: 0.1166 - val_precision: 0.8204\n",
      "Epoch 2/6\n",
      "787/787 [==============================] - 173s 220ms/step - loss: 0.2872 - accuracy: 0.0245 - precision: 0.9381 - val_loss: 9.7963 - val_accuracy: 0.2183 - val_precision: 0.7809\n",
      "Epoch 3/6\n",
      "787/787 [==============================] - 173s 220ms/step - loss: 0.1908 - accuracy: 0.0503 - precision: 0.9506 - val_loss: 11.4843 - val_accuracy: 0.2720 - val_precision: 0.8037\n",
      "Epoch 4/6\n",
      "787/787 [==============================] - 169s 214ms/step - loss: 0.1638 - accuracy: 0.0876 - precision: 0.9538 - val_loss: 13.1916 - val_accuracy: 0.4294 - val_precision: 0.8092\n",
      "Epoch 5/6\n",
      "787/787 [==============================] - 166s 210ms/step - loss: 0.1673 - accuracy: 0.1195 - precision: 0.9552 - val_loss: 24.2396 - val_accuracy: 0.5440 - val_precision: 0.8221\n",
      "Epoch 6/6\n",
      "787/787 [==============================] - 165s 210ms/step - loss: 0.1332 - accuracy: 0.1639 - precision: 0.9603 - val_loss: 21.8372 - val_accuracy: 0.5813 - val_precision: 0.8037\n"
     ]
    },
    {
     "data": {
      "text/plain": [
       "<keras.callbacks.History at 0x7f990c1b28e0>"
      ]
     },
     "execution_count": 11,
     "metadata": {},
     "output_type": "execute_result"
    }
   ],
   "source": [
    "model.fit_generator(generator=x_train,steps_per_epoch=len(x_train),epochs=6,validation_data=x_test,validation_steps=len(x_test))"
   ]
  },
  {
   "cell_type": "code",
   "execution_count": 12,
   "id": "918341ac",
   "metadata": {},
   "outputs": [],
   "source": [
    "model.save(\"gesturemodel.h5\")"
   ]
  },
  {
   "cell_type": "code",
   "execution_count": 14,
   "id": "0282658b",
   "metadata": {},
   "outputs": [],
   "source": [
    "from tensorflow.keras.models import load_model\n",
    "from keras.preprocessing import image\n"
   ]
  },
  {
   "cell_type": "code",
   "execution_count": 15,
   "id": "3e331196",
   "metadata": {},
   "outputs": [],
   "source": [
    "model=load_model(\"gesturemodel.h5\")"
   ]
  },
  {
   "cell_type": "code",
   "execution_count": 16,
   "id": "ca443592",
   "metadata": {},
   "outputs": [],
   "source": [
    "img=image.load_img(r\"asldataset/img.jpg\",color_mode=\"grayscale\",target_size=(128,128))"
   ]
  },
  {
   "cell_type": "code",
   "execution_count": 17,
   "id": "3bcd0b2b",
   "metadata": {},
   "outputs": [],
   "source": [
    "x=image.img_to_array(img)"
   ]
  },
  {
   "cell_type": "code",
   "execution_count": 18,
   "id": "7235e73b",
   "metadata": {},
   "outputs": [],
   "source": [
    "x=np.expand_dims(x,axis=0)"
   ]
  },
  {
   "cell_type": "code",
   "execution_count": 19,
   "id": "2a0deaba",
   "metadata": {},
   "outputs": [],
   "source": [
    "pred=model.predict(x)"
   ]
  },
  {
   "cell_type": "code",
   "execution_count": 20,
   "id": "b9fec1cb",
   "metadata": {},
   "outputs": [
    {
     "data": {
      "text/plain": [
       "3"
      ]
     },
     "execution_count": 20,
     "metadata": {},
     "output_type": "execute_result"
    }
   ],
   "source": [
    "np.argmax(pred)"
   ]
  },
  {
   "cell_type": "code",
   "execution_count": 21,
   "id": "d8c6e715",
   "metadata": {},
   "outputs": [],
   "source": [
    "model_json = model.to_json()\n",
    "with open(\"model-bw.json\", \"w\") as json_file:\n",
    "    json_file.write(model_json)"
   ]
  },
  {
   "cell_type": "code",
   "execution_count": null,
   "id": "5abb8ed3",
   "metadata": {},
   "outputs": [],
   "source": []
  }
 ],
 "metadata": {
  "kernelspec": {
   "display_name": "Python 3 (ipykernel)",
   "language": "python",
   "name": "python3"
  },
  "language_info": {
   "codemirror_mode": {
    "name": "ipython",
    "version": 3
   },
   "file_extension": ".py",
   "mimetype": "text/x-python",
   "name": "python",
   "nbconvert_exporter": "python",
   "pygments_lexer": "ipython3",
   "version": "3.9.7"
  }
 },
 "nbformat": 4,
 "nbformat_minor": 5
}
